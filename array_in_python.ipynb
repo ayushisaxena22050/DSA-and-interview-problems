{
 "cells": [
  {
   "cell_type": "markdown",
   "metadata": {},
   "source": [
    "## Dynamic Array implementation"
   ]
  },
  {
   "cell_type": "code",
   "execution_count": 32,
   "metadata": {},
   "outputs": [],
   "source": [
    "import ctypes\n",
    "\n",
    "class DynamicArray(object):\n",
    "    def __init__(self):\n",
    "        self.n = 0 # number of elements\n",
    "        self.capacity = 1 # capacity of array\n",
    "        self.A = self.make_array(self.capacity) # a array of length = capacity\n",
    "        \n",
    "    def __len__(self):\n",
    "        return self.n\n",
    "    \n",
    "    def __getitem__(self,k):\n",
    "        \n",
    "        if not 0 <= k < self.n:\n",
    "            return IndexError(\"K is out of bounds\")\n",
    "        \n",
    "        return self.A[k] \n",
    "    \n",
    "    def append(self,ele):\n",
    "        \n",
    "        if self.n == self.capacity: #check capacity of array, if its equal to length then\n",
    "            self._resize(2*self.capacity)# we need to create a new array of 2*capacity\n",
    "        self.A[self.n] = ele \n",
    "        self.n += 1\n",
    "    \n",
    "    def _resize(self,new_cap): # to create an array of new size\n",
    "        \n",
    "        B = self.make_array(new_cap)\n",
    "        for k in range(self.n):\n",
    "            B[k] = self.A[k]\n",
    "            \n",
    "        self.A = B\n",
    "        self.capacity = new_cap \n",
    "        \n",
    "    def make_array(self,new_cap):\n",
    "        \n",
    "        return (new_cap * ctypes.py_object)() # create a array (C's array)"
   ]
  },
  {
   "cell_type": "code",
   "execution_count": 33,
   "metadata": {},
   "outputs": [],
   "source": [
    "arr = DynamicArray()"
   ]
  },
  {
   "cell_type": "code",
   "execution_count": 34,
   "metadata": {},
   "outputs": [],
   "source": [
    "arr.append(0)"
   ]
  },
  {
   "cell_type": "code",
   "execution_count": 35,
   "metadata": {},
   "outputs": [
    {
     "data": {
      "text/plain": [
       "1"
      ]
     },
     "execution_count": 35,
     "metadata": {},
     "output_type": "execute_result"
    }
   ],
   "source": [
    "len(arr)"
   ]
  },
  {
   "cell_type": "code",
   "execution_count": 36,
   "metadata": {},
   "outputs": [],
   "source": [
    "arr.append(2)"
   ]
  },
  {
   "cell_type": "code",
   "execution_count": 37,
   "metadata": {},
   "outputs": [
    {
     "data": {
      "text/plain": [
       "2"
      ]
     },
     "execution_count": 37,
     "metadata": {},
     "output_type": "execute_result"
    }
   ],
   "source": [
    "len(arr)"
   ]
  },
  {
   "cell_type": "code",
   "execution_count": 38,
   "metadata": {},
   "outputs": [
    {
     "data": {
      "text/plain": [
       "2"
      ]
     },
     "execution_count": 38,
     "metadata": {},
     "output_type": "execute_result"
    }
   ],
   "source": [
    "arr[1]"
   ]
  },
  {
   "cell_type": "code",
   "execution_count": 39,
   "metadata": {},
   "outputs": [
    {
     "data": {
      "text/plain": [
       "IndexError('K is out of bounds')"
      ]
     },
     "execution_count": 39,
     "metadata": {},
     "output_type": "execute_result"
    }
   ],
   "source": [
    "arr[9]"
   ]
  },
  {
   "cell_type": "code",
   "execution_count": 40,
   "metadata": {},
   "outputs": [],
   "source": [
    "import sys"
   ]
  },
  {
   "cell_type": "code",
   "execution_count": 27,
   "metadata": {},
   "outputs": [
    {
     "name": "stdout",
     "output_type": "stream",
     "text": [
      "1 88\n",
      "2 88\n",
      "3 88\n",
      "4 88\n",
      "5 120\n",
      "6 120\n",
      "7 120\n",
      "8 120\n",
      "9 184\n",
      "10 184\n",
      "11 184\n",
      "12 184\n",
      "13 184\n",
      "14 184\n",
      "15 184\n",
      "16 184\n",
      "17 256\n",
      "18 256\n",
      "19 256\n",
      "20 256\n",
      "21 256\n",
      "22 256\n",
      "23 256\n",
      "24 256\n",
      "25 256\n",
      "26 336\n",
      "27 336\n",
      "28 336\n",
      "29 336\n",
      "30 336\n",
      "31 336\n",
      "32 336\n",
      "33 336\n",
      "34 336\n",
      "35 336\n",
      "36 424\n",
      "37 424\n",
      "38 424\n",
      "39 424\n",
      "40 424\n",
      "41 424\n",
      "42 424\n",
      "43 424\n",
      "44 424\n",
      "45 424\n",
      "46 424\n",
      "47 520\n",
      "48 520\n",
      "49 520\n",
      "50 520\n",
      "51 520\n",
      "52 520\n",
      "53 520\n",
      "54 520\n",
      "55 520\n",
      "56 520\n",
      "57 520\n",
      "58 520\n",
      "59 632\n",
      "60 632\n",
      "61 632\n",
      "62 632\n",
      "63 632\n",
      "64 632\n",
      "65 632\n",
      "66 632\n",
      "67 632\n",
      "68 632\n",
      "69 632\n",
      "70 632\n",
      "71 632\n",
      "72 632\n",
      "73 760\n",
      "74 760\n",
      "75 760\n",
      "76 760\n",
      "77 760\n",
      "78 760\n",
      "79 760\n",
      "80 760\n",
      "81 760\n",
      "82 760\n",
      "83 760\n",
      "84 760\n",
      "85 760\n",
      "86 760\n",
      "87 760\n",
      "88 760\n",
      "89 904\n",
      "90 904\n",
      "91 904\n",
      "92 904\n",
      "93 904\n",
      "94 904\n",
      "95 904\n",
      "96 904\n",
      "97 904\n",
      "98 904\n",
      "99 904\n",
      "100 904\n"
     ]
    }
   ],
   "source": [
    "list1 = []\n",
    "for i in range(100):\n",
    "    list1.append(i)\n",
    "    print(len(list1),sys.getsizeof(list1))"
   ]
  },
  {
   "cell_type": "markdown",
   "metadata": {},
   "source": [
    "## Anagram Check\n",
    "Problem:\n",
    "Given two strings, check to see if they are anagrams. An anagram is when two string can be written using the exact\n",
    "same letters(so you can just rearrange the letters to get a different phrase or word)"
   ]
  },
  {
   "cell_type": "code",
   "execution_count": 58,
   "metadata": {},
   "outputs": [
    {
     "name": "stdout",
     "output_type": "stream",
     "text": [
      "string1 is anagram of string2\n"
     ]
    }
   ],
   "source": [
    "def anagram_1(string1,string2):\n",
    "    dict1 = {}\n",
    "    dict2 = {}\n",
    "    string1 = string1.lower().replace(\" \",\"\")\n",
    "    string2 = string2.lower()\n",
    "    if len(string1) != len(string2):\n",
    "        return \"string1 is not anagram of string2\"\n",
    "    for i in string1:\n",
    "        if i in dict1:\n",
    "            dict1[i]+=1\n",
    "        else:\n",
    "            dict1[i] = 1\n",
    "    for j in string2:\n",
    "        if j in dict1:\n",
    "            dict1[j]-=1\n",
    "        else:\n",
    "            dict1[j] = 1\n",
    "    for k in dict1:\n",
    "        if dict1[k]!=0:\n",
    "            return \"string1 is not anagram of string2\"\n",
    "    return \"string1 is anagram of string2\"\n",
    "        \n",
    "string1 = \"clint eastwood\"\n",
    "string2 = \"old west action\"\n",
    "anagram(string1,string2)"
   ]
  },
  {
   "cell_type": "code",
   "execution_count": 63,
   "metadata": {},
   "outputs": [],
   "source": [
    "#Preferable Way\n",
    "def anagram_2(string1,string2):\n",
    "    string1 = string1.replace(\" \",\"\").lower()\n",
    "    string2 =string2.replace(\" \",\"\").lower()\n",
    "    if sorted(string1)==sorted(string2):\n",
    "        return \"string1 is anagram of string2\"\n",
    "    else:\n",
    "        return \"string1 is not anagram of string2\""
   ]
  },
  {
   "cell_type": "code",
   "execution_count": 64,
   "metadata": {},
   "outputs": [
    {
     "data": {
      "text/plain": [
       "'string1 is anagram of string2'"
      ]
     },
     "execution_count": 64,
     "metadata": {},
     "output_type": "execute_result"
    }
   ],
   "source": [
    "anagram_2(string1,string2)"
   ]
  },
  {
   "cell_type": "markdown",
   "metadata": {},
   "source": [
    "## Array Pair Sum\n",
    "Given an integer array, output all the unique pairs that sum up to a specific value <B>k</B>. <br>\n",
    "so the input:<br>\n",
    "    pair_sum([1,3,2,2],4)\n",
    "would return 2 pairs:\n",
    "    (1,3)\n",
    "    (2,2)"
   ]
  },
  {
   "cell_type": "code",
   "execution_count": 103,
   "metadata": {},
   "outputs": [
    {
     "data": {
      "text/plain": [
       "2"
      ]
     },
     "execution_count": 103,
     "metadata": {},
     "output_type": "execute_result"
    }
   ],
   "source": [
    "array = [1,3,2,2]\n",
    "k = 4\n",
    "def find_pair_count1(array,k):\n",
    "    pairs = []\n",
    "    for i in range(len(array)):\n",
    "        for j in range(i,len(array)):\n",
    "            if array[i]+array[j] ==k:\n",
    "                pair = tuple(sorted([array[i],array[j]]))\n",
    "                pairs.append(pair)\n",
    "    return len(set(pairs))\n",
    "find_pair_count1(array,k)"
   ]
  },
  {
   "cell_type": "markdown",
   "metadata": {},
   "source": [
    "Complexity - O($N^{2}$)"
   ]
  },
  {
   "cell_type": "code",
   "execution_count": 139,
   "metadata": {},
   "outputs": [],
   "source": [
    "def find_pair_count2(array,k):\n",
    "    seen = set()\n",
    "    pairs = set()\n",
    "    for i in array:\n",
    "        target = k - i\n",
    "        if target in seen:\n",
    "            pairs.add((min(k,target),max(target,k)))\n",
    "        else:\n",
    "            seen.add(i)\n",
    "    print(\"\\n\".join(map(str,pairs)))\n",
    "    return len(pairs)\n"
   ]
  },
  {
   "cell_type": "code",
   "execution_count": 140,
   "metadata": {},
   "outputs": [
    {
     "name": "stdout",
     "output_type": "stream",
     "text": [
      "(2, 4)\n",
      "(1, 4)\n"
     ]
    },
    {
     "data": {
      "text/plain": [
       "2"
      ]
     },
     "execution_count": 140,
     "metadata": {},
     "output_type": "execute_result"
    }
   ],
   "source": [
    "find_pair_count2(array,k)"
   ]
  },
  {
   "cell_type": "markdown",
   "metadata": {},
   "source": [
    "Complexity - O(N)"
   ]
  },
  {
   "cell_type": "markdown",
   "metadata": {},
   "source": [
    "## Find the Missing number\n",
    "Consider an array of non-negative integers. A second array is formed by suffling the elements of the first array and deleting a random element. Given these two array, find which element is missing in second array.\n",
    "here is an example input, tthe first array is shuffled and the number 5 is removed to construct the second array.\n",
    "\n",
    "finder([1,2,3,4,5,6,7],[3,7,2,1,4,6])\n",
    "It should return 5"
   ]
  },
  {
   "cell_type": "code",
   "execution_count": 113,
   "metadata": {},
   "outputs": [],
   "source": [
    "def finder1(array1,array2):\n",
    "    array1.sort()\n",
    "    array2.sort()\n",
    "    for num1,num2 in zip(array1,array2):\n",
    "        if num1!=num2:\n",
    "            return num1\n",
    "    else:\n",
    "        return \"None\"\n",
    "        "
   ]
  },
  {
   "cell_type": "code",
   "execution_count": 114,
   "metadata": {},
   "outputs": [
    {
     "data": {
      "text/plain": [
       "5"
      ]
     },
     "execution_count": 114,
     "metadata": {},
     "output_type": "execute_result"
    }
   ],
   "source": [
    "finder1([1,2,3,4,5,6,7],[3,7,2,1,4,6]) "
   ]
  },
  {
   "cell_type": "code",
   "execution_count": 115,
   "metadata": {},
   "outputs": [],
   "source": [
    "from collections import defaultdict"
   ]
  },
  {
   "cell_type": "code",
   "execution_count": 116,
   "metadata": {},
   "outputs": [],
   "source": [
    "def finder2(array1,array2):\n",
    "    d = defaultdict(int)\n",
    "    \n",
    "    for num in array2:\n",
    "        d[num]+=1\n",
    "    \n",
    "    for num in array1:\n",
    "        if d[num] ==0:\n",
    "            return num\n",
    "        else:\n",
    "            pass"
   ]
  },
  {
   "cell_type": "code",
   "execution_count": 119,
   "metadata": {},
   "outputs": [
    {
     "data": {
      "text/plain": [
       "5"
      ]
     },
     "execution_count": 119,
     "metadata": {},
     "output_type": "execute_result"
    }
   ],
   "source": [
    "finder2([1,2,3,4,5,6,7],[3,7,2,1,4,6])"
   ]
  },
  {
   "cell_type": "code",
   "execution_count": 128,
   "metadata": {},
   "outputs": [],
   "source": [
    "def finder3(arr1,arr2):#(using XOR)\n",
    "    result = 0\n",
    "    for num in arr1+arr2:\n",
    "#         print(\"num\",num)\n",
    "        result^=num\n",
    "#         print(\"result\",result)\n",
    "    return result"
   ]
  },
  {
   "cell_type": "code",
   "execution_count": 129,
   "metadata": {},
   "outputs": [
    {
     "data": {
      "text/plain": [
       "5"
      ]
     },
     "execution_count": 129,
     "metadata": {},
     "output_type": "execute_result"
    }
   ],
   "source": [
    "finder3([1,2,3,4,5,6,7],[3,7,2,1,4,6])"
   ]
  },
  {
   "cell_type": "markdown",
   "metadata": {},
   "source": [
    "## Largest Continuous Sum\n",
    "Given an array of integers (positive and negative) find the largest continuous sum"
   ]
  },
  {
   "cell_type": "code",
   "execution_count": 144,
   "metadata": {},
   "outputs": [
    {
     "data": {
      "text/plain": [
       "29"
      ]
     },
     "execution_count": 144,
     "metadata": {},
     "output_type": "execute_result"
    }
   ],
   "source": [
    "def large_cont_sum(array):\n",
    "    sum_ = 0\n",
    "    for num1 in range(len(array)):\n",
    "        for num2 in range(num1,len(array)+1):\n",
    "            cur_sum = sum(array[num1:num2]) #By slicing technique\n",
    "            if cur_sum > sum_:\n",
    "                sum_ = cur_sum\n",
    "    return sum_\n",
    "array = [1,2,-1,3,4,10,10,-10,-1]\n",
    "large_cont_sum(array)"
   ]
  },
  {
   "cell_type": "code",
   "execution_count": 145,
   "metadata": {},
   "outputs": [
    {
     "data": {
      "text/plain": [
       "29"
      ]
     },
     "execution_count": 145,
     "metadata": {},
     "output_type": "execute_result"
    }
   ],
   "source": [
    "def longest_sum(array):\n",
    "    cur_sum = max_sum = array[0]\n",
    "    for num in array[1:]:\n",
    "        cur_sum = max(cur_sum+num,num)\n",
    "        max_sum = max(cur_sum,max_sum)\n",
    "    return max_sum\n",
    "longest_sum(array)"
   ]
  },
  {
   "cell_type": "markdown",
   "metadata": {},
   "source": [
    "## Sentence Reversal\n",
    "Given a string of words, reverse all words:<br>\n",
    "Given:<br>\n",
    "\"This is the best\"<br>\n",
    "return:<br>\n",
    "\"best the is This\""
   ]
  },
  {
   "cell_type": "code",
   "execution_count": 157,
   "metadata": {},
   "outputs": [],
   "source": [
    "def reversal(string1):\n",
    "    string1 = \"  This is the best  \"\n",
    "    string1 = string1.strip().split()\n",
    "    arr = []\n",
    "    for s in range(len(string1)):\n",
    "        arr.append(string1[len(string1)-1-s])\n",
    "    return \" \".join(arr)"
   ]
  },
  {
   "cell_type": "code",
   "execution_count": 159,
   "metadata": {},
   "outputs": [
    {
     "data": {
      "text/plain": [
       "'best the is This'"
      ]
     },
     "execution_count": 159,
     "metadata": {},
     "output_type": "execute_result"
    }
   ],
   "source": [
    "reversal(\"This is the best  \")"
   ]
  },
  {
   "cell_type": "code",
   "execution_count": 240,
   "metadata": {},
   "outputs": [
    {
     "data": {
      "text/plain": [
       "'b'"
      ]
     },
     "execution_count": 240,
     "metadata": {},
     "output_type": "execute_result"
    }
   ],
   "source": [
    "string1[14]"
   ]
  },
  {
   "cell_type": "code",
   "execution_count": 250,
   "metadata": {},
   "outputs": [],
   "source": [
    "#without using in- built split function:\n",
    "def split_it(string1):\n",
    "    i=0\n",
    "    arr =[]\n",
    "    while i < len(string1):\n",
    "        if string1[i] != \" \":\n",
    "            j = i\n",
    "            while (j < len(string1)) and (string1[j] != \" \"): \n",
    "                without_space = i\n",
    "                j+=1\n",
    "            else:\n",
    "                arr.append(string1[i:j])\n",
    "                i=j\n",
    "        i+=1\n",
    "    return arr\n",
    "def reverse(string1):\n",
    "    string1 = split_it(string1)\n",
    "    arr = []\n",
    "    for s in range(len(string1)):\n",
    "        arr.append(string1[len(string1)-1-s])\n",
    "    return \" \".join(arr)\n",
    "    "
   ]
  },
  {
   "cell_type": "code",
   "execution_count": 251,
   "metadata": {},
   "outputs": [
    {
     "data": {
      "text/plain": [
       "'best the is This'"
      ]
     },
     "execution_count": 251,
     "metadata": {},
     "output_type": "execute_result"
    }
   ],
   "source": [
    "reverse(string1)"
   ]
  },
  {
   "cell_type": "markdown",
   "metadata": {},
   "source": [
    "## String Compression"
   ]
  },
  {
   "cell_type": "markdown",
   "metadata": {},
   "source": [
    "Given a string in the form 'AAAABBBBCCCCCCDDEEEE' compress it to become 'A4B4C5D2E4'. For this problem,you can falsely\n",
    "\"compress\" strings of single or double letters. For instance it is okay for \"AAB\" to return A2B1 even though this technically takes more space.\n",
    "The function should also be case sensitive, so that a string 'AAAaaa' returns A3a3"
   ]
  },
  {
   "cell_type": "code",
   "execution_count": 1,
   "metadata": {},
   "outputs": [],
   "source": [
    "from collections import Counter"
   ]
  },
  {
   "cell_type": "code",
   "execution_count": 13,
   "metadata": {},
   "outputs": [],
   "source": [
    "def string_compression(string1):\n",
    "    count = Counter(string1)\n",
    "\n",
    "    list1 = []\n",
    "    for key,value in count.items():\n",
    "        list1.append(key)\n",
    "        list1.append(str(value))\n",
    "\n",
    "    return \"\".join(list1)"
   ]
  },
  {
   "cell_type": "code",
   "execution_count": 14,
   "metadata": {},
   "outputs": [
    {
     "data": {
      "text/plain": [
       "'A4B4C6D2E4'"
      ]
     },
     "execution_count": 14,
     "metadata": {},
     "output_type": "execute_result"
    }
   ],
   "source": [
    "string1 = 'AAAABBBBCCCCCCDDEEEE'\n",
    "string_compression(string1)"
   ]
  },
  {
   "cell_type": "code",
   "execution_count": 17,
   "metadata": {},
   "outputs": [
    {
     "data": {
      "text/plain": [
       "'A1'"
      ]
     },
     "execution_count": 17,
     "metadata": {},
     "output_type": "execute_result"
    }
   ],
   "source": [
    "string_compression('A')"
   ]
  },
  {
   "cell_type": "markdown",
   "metadata": {},
   "source": [
    "## Unique characters in String"
   ]
  },
  {
   "cell_type": "markdown",
   "metadata": {},
   "source": [
    "Given a string, if it is comprised of all unique characters. For example, the string 'abcde' has all unique characters\n",
    "and should return True. The string 'abcde' contains duplicate characters and should return False"
   ]
  },
  {
   "cell_type": "code",
   "execution_count": 18,
   "metadata": {},
   "outputs": [],
   "source": [
    "def is_unique(string):\n",
    "    set1 = set()\n",
    "    for i in string:\n",
    "        if i not in set1:\n",
    "            set1.add(i)\n",
    "        else:\n",
    "            return False\n",
    "    return True"
   ]
  },
  {
   "cell_type": "code",
   "execution_count": 20,
   "metadata": {},
   "outputs": [
    {
     "data": {
      "text/plain": [
       "False"
      ]
     },
     "execution_count": 20,
     "metadata": {},
     "output_type": "execute_result"
    }
   ],
   "source": [
    "is_unique(\"Abccd\")"
   ]
  },
  {
   "cell_type": "code",
   "execution_count": 73,
   "metadata": {},
   "outputs": [],
   "source": [
    "l= [1,2,3,4,5]"
   ]
  },
  {
   "cell_type": "code",
   "execution_count": 74,
   "metadata": {},
   "outputs": [],
   "source": [
    "l[0],l[4] = l[4],l[0]"
   ]
  },
  {
   "cell_type": "code",
   "execution_count": 75,
   "metadata": {},
   "outputs": [
    {
     "data": {
      "text/plain": [
       "[5, 2, 3, 4, 1]"
      ]
     },
     "execution_count": 75,
     "metadata": {},
     "output_type": "execute_result"
    }
   ],
   "source": [
    "l"
   ]
  },
  {
   "cell_type": "code",
   "execution_count": 77,
   "metadata": {},
   "outputs": [],
   "source": [
    "l,b,u = 1,2,2"
   ]
  },
  {
   "cell_type": "code",
   "execution_count": 78,
   "metadata": {},
   "outputs": [],
   "source": [
    "a=b=c=1"
   ]
  },
  {
   "cell_type": "code",
   "execution_count": 80,
   "metadata": {},
   "outputs": [],
   "source": [
    "a,*b,c = [1,2,3,4,5]"
   ]
  },
  {
   "cell_type": "code",
   "execution_count": 81,
   "metadata": {},
   "outputs": [
    {
     "data": {
      "text/plain": [
       "[2, 3, 4]"
      ]
     },
     "execution_count": 81,
     "metadata": {},
     "output_type": "execute_result"
    }
   ],
   "source": [
    "b"
   ]
  },
  {
   "cell_type": "code",
   "execution_count": null,
   "metadata": {},
   "outputs": [],
   "source": []
  }
 ],
 "metadata": {
  "kernelspec": {
   "display_name": "Python 3",
   "language": "python",
   "name": "python3"
  },
  "language_info": {
   "codemirror_mode": {
    "name": "ipython",
    "version": 3
   },
   "file_extension": ".py",
   "mimetype": "text/x-python",
   "name": "python",
   "nbconvert_exporter": "python",
   "pygments_lexer": "ipython3",
   "version": "3.8.3"
  }
 },
 "nbformat": 4,
 "nbformat_minor": 4
}
