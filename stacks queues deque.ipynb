{
 "cells": [
  {
   "cell_type": "markdown",
   "metadata": {},
   "source": [
    "# Implementation of Stack\n",
    "Stack Attributes and Methods:<br>\n",
    "A stack is structured and ordered collection of items where items are added to and removed from the last called as top. Stacks ordered are LIFO(Last In first out). The stack operations are given below:<br>\n",
    "stack() - creates a new empty stack with no parameters and return an empty stack.<br>\n",
    "push(item) - adds a new item to the top of the stack. It needs the item and returns nothing.<br>\n",
    "pop() - removes the top item from the stack. It needs no parameters and returns the item. The stack is modified.<br>\n",
    "peek() - returns the top item from the stack but does not remove it. It needs no paramter. The stack is not modified.<br>\n",
    "isEmpty() - tests to see whether the stack is empty. It needs no parameters and returns a boolean value.<br>\n",
    "size() - returns the number of items on the stack. It needs no paramters and return an integer.\n",
    "\n",
    "    \n",
    "\n",
    "    \n"
   ]
  },
  {
   "cell_type": "code",
   "execution_count": 1,
   "metadata": {},
   "outputs": [],
   "source": [
    "class Stack: \n",
    "    \n",
    "    def __init__(self):\n",
    "        self.A = []\n",
    "        \n",
    "    def stack(self):\n",
    "        return []\n",
    "    \n",
    "    def push(self,item):\n",
    "        self.A.append(item)\n",
    "        \n",
    "    def pop(self):\n",
    "        return self.A.pop()\n",
    "    \n",
    "    def isEmpty(self):\n",
    "        return self.A == []\n",
    "    \n",
    "    def size(self):\n",
    "        return len(self.A)\n",
    "    \n",
    "    def peek(self):\n",
    "        return self.A[-1]"
   ]
  },
  {
   "cell_type": "code",
   "execution_count": 2,
   "metadata": {},
   "outputs": [],
   "source": [
    "stack = Stack()"
   ]
  },
  {
   "cell_type": "code",
   "execution_count": 3,
   "metadata": {},
   "outputs": [
    {
     "data": {
      "text/plain": [
       "[]"
      ]
     },
     "execution_count": 3,
     "metadata": {},
     "output_type": "execute_result"
    }
   ],
   "source": [
    "stack.stack()"
   ]
  },
  {
   "cell_type": "code",
   "execution_count": 4,
   "metadata": {},
   "outputs": [],
   "source": [
    "stack.push(1)"
   ]
  },
  {
   "cell_type": "code",
   "execution_count": 5,
   "metadata": {},
   "outputs": [
    {
     "data": {
      "text/plain": [
       "1"
      ]
     },
     "execution_count": 5,
     "metadata": {},
     "output_type": "execute_result"
    }
   ],
   "source": [
    "stack.peek()"
   ]
  },
  {
   "cell_type": "code",
   "execution_count": 6,
   "metadata": {},
   "outputs": [
    {
     "data": {
      "text/plain": [
       "1"
      ]
     },
     "execution_count": 6,
     "metadata": {},
     "output_type": "execute_result"
    }
   ],
   "source": [
    "stack.size()"
   ]
  },
  {
   "cell_type": "code",
   "execution_count": 7,
   "metadata": {},
   "outputs": [],
   "source": [
    "stack.push(2)"
   ]
  },
  {
   "cell_type": "code",
   "execution_count": 8,
   "metadata": {},
   "outputs": [
    {
     "data": {
      "text/plain": [
       "2"
      ]
     },
     "execution_count": 8,
     "metadata": {},
     "output_type": "execute_result"
    }
   ],
   "source": [
    "stack.peek()"
   ]
  },
  {
   "cell_type": "markdown",
   "metadata": {},
   "source": [
    "## Implementation of Queue\n",
    "Queue Methods and Attributes:<br>\n",
    "<ul>\n",
    "<li>Queue() creates a new queue that is empty. It returns no paramter and returns an empty queue.</li>\n",
    "<li>enqueue(item) adds a new item to the rear of the queue. It needs the item and returns nothing.</li>\n",
    "<li>dequeue() removes the front item from the queue. It needs no parameter and returns the item.The queue is modified.</li>\n",
    "<li>isEmpty() tests to see whether the queue is empty. It needs no parameter and returns a boolean value.</li>\n",
    "<li>size() returns the number of items in the queue. It needs no paramters and returns an integer. </li>    \n",
    "</ul>"
   ]
  },
  {
   "cell_type": "code",
   "execution_count": 17,
   "metadata": {},
   "outputs": [],
   "source": [
    "class Queue:\n",
    "    \n",
    "    def __init__(self):\n",
    "        self.A = []\n",
    "    \n",
    "    def enqueue(self,item):\n",
    "        self.A.insert(0,item)\n",
    "        \n",
    "    def dequeue(self):\n",
    "        return self.A.pop()\n",
    "    \n",
    "    def isEmpty(self):\n",
    "        return self.A == []\n",
    "\n",
    "    def size(self):\n",
    "        return len(self.A)"
   ]
  },
  {
   "cell_type": "code",
   "execution_count": 18,
   "metadata": {},
   "outputs": [],
   "source": [
    "a =Queue()"
   ]
  },
  {
   "cell_type": "code",
   "execution_count": 19,
   "metadata": {},
   "outputs": [],
   "source": [
    "a.enqueue(1)"
   ]
  },
  {
   "cell_type": "code",
   "execution_count": 20,
   "metadata": {},
   "outputs": [
    {
     "data": {
      "text/plain": [
       "1"
      ]
     },
     "execution_count": 20,
     "metadata": {},
     "output_type": "execute_result"
    }
   ],
   "source": [
    "a.dequeue()"
   ]
  },
  {
   "cell_type": "code",
   "execution_count": 21,
   "metadata": {},
   "outputs": [
    {
     "data": {
      "text/plain": [
       "0"
      ]
     },
     "execution_count": 21,
     "metadata": {},
     "output_type": "execute_result"
    }
   ],
   "source": [
    "a.size()"
   ]
  },
  {
   "cell_type": "code",
   "execution_count": 22,
   "metadata": {},
   "outputs": [],
   "source": [
    "a = [1,2,3]"
   ]
  },
  {
   "cell_type": "code",
   "execution_count": 23,
   "metadata": {},
   "outputs": [
    {
     "data": {
      "text/plain": [
       "3"
      ]
     },
     "execution_count": 23,
     "metadata": {},
     "output_type": "execute_result"
    }
   ],
   "source": [
    "a.pop()"
   ]
  },
  {
   "cell_type": "markdown",
   "metadata": {},
   "source": [
    "# Implementation of a Deque\n",
    "## Methods and Attributes\n",
    "<ul>\n",
    "    <li>Deque() - creates a new deque that is empty. It returns no parameters and returns an empty deque.</li>\n",
    "    <li>addFront(item) - adds a new item to the front of the deque. It needs the item and return nothing.</li>\n",
    "    <li>addRear(item) - adds a new item to the rear of the deque. It needs the item and return nothing.</li>\n",
    "    <li>removeFront(item) - removes the front item from the deque.It needs no parameter and returns the item.The deque is modified</li>\n",
    "    <li>removeRear(item) - removes the rear item from the deque.It needs no parameter and returns the item.The deque is modified</li>\n",
    "    <li>isEmpty() - tests to see whether the deque is empty. It needs no parameter and returns a boolean value.</li>\n",
    "        <li> size() - returns the number of items in the deque. It needs no parameter and returns an integer. </li>"
   ]
  },
  {
   "cell_type": "code",
   "execution_count": 15,
   "metadata": {},
   "outputs": [],
   "source": [
    "class Deque:\n",
    "    def __init__(self):\n",
    "        self.A = []\n",
    "\n",
    "    \n",
    "    def addFront(self,item):\n",
    "        self.A.insert(0,item)\n",
    "        \n",
    "    def addRear(self,item):\n",
    "        self.A.insert(0,item)\n",
    "        \n",
    "    def removeFront(self):\n",
    "        if len(self.A)!=0:\n",
    "            return self.A.pop(0)\n",
    "        else:\n",
    "            return \"Deque is Empty.\"\n",
    "    \n",
    "    def removeRear(self):\n",
    "        if len(self.A) !=0:\n",
    "            return self.A.pop()\n",
    "        else:\n",
    "            return \"Deque is Empty.\"\n",
    "    \n",
    "    def isEmpty(self):\n",
    "        return self.A == []\n",
    "    \n",
    "    def size(self):\n",
    "        return len(self.A)\n",
    "        "
   ]
  },
  {
   "cell_type": "code",
   "execution_count": 16,
   "metadata": {},
   "outputs": [
    {
     "data": {
      "text/plain": [
       "True"
      ]
     },
     "execution_count": 16,
     "metadata": {},
     "output_type": "execute_result"
    }
   ],
   "source": [
    "deque = Deque()\n",
    "deque.isEmpty()"
   ]
  },
  {
   "cell_type": "code",
   "execution_count": 17,
   "metadata": {},
   "outputs": [
    {
     "data": {
      "text/plain": [
       "'Deque is Empty.'"
      ]
     },
     "execution_count": 17,
     "metadata": {},
     "output_type": "execute_result"
    }
   ],
   "source": [
    "deque.removeFront()"
   ]
  },
  {
   "cell_type": "code",
   "execution_count": 18,
   "metadata": {},
   "outputs": [],
   "source": [
    "deque.addFront(0)"
   ]
  },
  {
   "cell_type": "code",
   "execution_count": 21,
   "metadata": {},
   "outputs": [
    {
     "data": {
      "text/plain": [
       "1"
      ]
     },
     "execution_count": 21,
     "metadata": {},
     "output_type": "execute_result"
    }
   ],
   "source": [
    "deque.size()"
   ]
  },
  {
   "cell_type": "code",
   "execution_count": 22,
   "metadata": {},
   "outputs": [
    {
     "data": {
      "text/plain": [
       "0"
      ]
     },
     "execution_count": 22,
     "metadata": {},
     "output_type": "execute_result"
    }
   ],
   "source": [
    "deque.removeFront()"
   ]
  },
  {
   "cell_type": "markdown",
   "metadata": {},
   "source": [
    "# Balanced Paranthesis Problem"
   ]
  },
  {
   "cell_type": "code",
   "execution_count": 23,
   "metadata": {},
   "outputs": [],
   "source": [
    "def is_balanced(string):\n",
    "    open_list = [\"(\",\"{\",\"[\"]\n",
    "    close_list = [\")\",\"}\",\"]\"]\n",
    "    dict1 = dict(zip(open_list,close_list))\n",
    "    stack = []\n",
    "    for i in string:\n",
    "        if i in open_list:\n",
    "            stack.append(i)\n",
    "        if i in close_list:\n",
    "            if len(stack)!=0 and dict1[stack.pop()] == i :\n",
    "                pass\n",
    "            else:\n",
    "                return False\n",
    "    if len(stack)!=0:\n",
    "        return False\n",
    "    return True"
   ]
  },
  {
   "cell_type": "code",
   "execution_count": 24,
   "metadata": {},
   "outputs": [
    {
     "data": {
      "text/plain": [
       "False"
      ]
     },
     "execution_count": 24,
     "metadata": {},
     "output_type": "execute_result"
    }
   ],
   "source": [
    "string = \"{{{{(\"\n",
    "is_balanced(string)"
   ]
  },
  {
   "cell_type": "markdown",
   "metadata": {},
   "source": [
    "# Implement a queue using two stacks"
   ]
  },
  {
   "cell_type": "code",
   "execution_count": 90,
   "metadata": {},
   "outputs": [],
   "source": [
    "stack1 = []\n",
    "stack2 = []\n",
    "class Queue_using_stack:\n",
    "    def __init__(self):\n",
    "        self.A = []\n",
    "        self.B = []\n",
    "    \n",
    "    def enqueue(self,item):\n",
    "        self.A.append(item)\n",
    "        \n",
    "    def dequeue(self):\n",
    "        if len(self.A) ==1:\n",
    "            return self.A.pop()\n",
    "        \n",
    "        elif len(self.A) ==0:\n",
    "            return self.A\n",
    "        else:\n",
    "            for i in self.A:\n",
    "                self.B.append(self.A.pop())\n",
    "                elem = self.B.pop()\n",
    "            if len(self.B)!= 0:\n",
    "                for i in self.B:\n",
    "                    self.A.append(self.B.pop())\n",
    "            return elem\n",
    "        \n",
    "    def size(self):\n",
    "        return len(self.A)\n",
    "        \n",
    "        "
   ]
  },
  {
   "cell_type": "code",
   "execution_count": 91,
   "metadata": {},
   "outputs": [],
   "source": [
    "queue = Queue_using_stack()"
   ]
  },
  {
   "cell_type": "code",
   "execution_count": 92,
   "metadata": {},
   "outputs": [],
   "source": [
    "queue.enqueue(1)"
   ]
  },
  {
   "cell_type": "code",
   "execution_count": 93,
   "metadata": {},
   "outputs": [
    {
     "data": {
      "text/plain": [
       "1"
      ]
     },
     "execution_count": 93,
     "metadata": {},
     "output_type": "execute_result"
    }
   ],
   "source": [
    "queue.dequeue()"
   ]
  },
  {
   "cell_type": "code",
   "execution_count": 94,
   "metadata": {},
   "outputs": [],
   "source": [
    "queue.enqueue(1)"
   ]
  },
  {
   "cell_type": "code",
   "execution_count": 95,
   "metadata": {},
   "outputs": [],
   "source": [
    "queue.enqueue(2)"
   ]
  },
  {
   "cell_type": "code",
   "execution_count": 96,
   "metadata": {},
   "outputs": [
    {
     "data": {
      "text/plain": [
       "2"
      ]
     },
     "execution_count": 96,
     "metadata": {},
     "output_type": "execute_result"
    }
   ],
   "source": [
    "queue.dequeue()"
   ]
  },
  {
   "cell_type": "code",
   "execution_count": 97,
   "metadata": {},
   "outputs": [
    {
     "data": {
      "text/plain": [
       "1"
      ]
     },
     "execution_count": 97,
     "metadata": {},
     "output_type": "execute_result"
    }
   ],
   "source": [
    "queue.size()"
   ]
  },
  {
   "cell_type": "code",
   "execution_count": null,
   "metadata": {},
   "outputs": [],
   "source": []
  }
 ],
 "metadata": {
  "kernelspec": {
   "display_name": "Python 3",
   "language": "python",
   "name": "python3"
  },
  "language_info": {
   "codemirror_mode": {
    "name": "ipython",
    "version": 3
   },
   "file_extension": ".py",
   "mimetype": "text/x-python",
   "name": "python",
   "nbconvert_exporter": "python",
   "pygments_lexer": "ipython3",
   "version": "3.8.3"
  }
 },
 "nbformat": 4,
 "nbformat_minor": 4
}
